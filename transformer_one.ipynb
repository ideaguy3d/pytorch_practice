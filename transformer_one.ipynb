{
 "cells": [
  {
   "cell_type": "markdown",
   "source": [
    "# imports\n",
    "\n",
    "practicing implementing a transformer with an encoder, a decoder, and an encoder+decoder  "
   ],
   "metadata": {
    "collapsed": false
   },
   "id": "f4e64d3d2ed56cb6"
  },
  {
   "cell_type": "code",
   "execution_count": 13,
   "id": "initial_id",
   "metadata": {
    "collapsed": true,
    "ExecuteTime": {
     "end_time": "2024-02-12T02:14:04.711142Z",
     "start_time": "2024-02-12T02:14:04.685771Z"
    }
   },
   "outputs": [
    {
     "name": "stdout",
     "output_type": "stream",
     "text": [
      "2.1.1\n"
     ]
    }
   ],
   "source": [
    "import torch \n",
    "import math \n",
    "from torch import nn  \n",
    "\n",
    "print(torch.__version__)"
   ]
  },
  {
   "cell_type": "markdown",
   "source": [
    "# Positional Encoder Class "
   ],
   "metadata": {
    "collapsed": false
   },
   "id": "206662b9668af287"
  },
  {
   "cell_type": "code",
   "outputs": [],
   "source": [
    "class PositionalEncoder(nn.Module):\n",
    "    def __init__(self, embedding_size, max_seq_len=512):\n",
    "        \"\"\"\n",
    "        embedding_size == d_model (model dimensions)\n",
    "        \"\"\"\n",
    "        super(PositionalEncoder, self).__init__()\n",
    "        self.embedding_size = embedding_size\n",
    "        self.max_seq_len = max_seq_len \n",
    "        \n",
    "        # positional encoder tensor\n",
    "        pe = torch.zeros(max_seq_len, embedding_size)\n",
    "        position = torch.arange(0, max_seq_len, dtype=torch.float).unsqueeze(1)\n",
    "        div_term = torch.exp(torch.arange(0, embedding_size, 2, dtype=torch.float) * -(math.log(10000.0)/embedding_size))\n",
    "        pe[:, 0::2] = torch.sin(position * div_term)\n",
    "        pe[:, 1::2] = torch.cos(position * div_term)\n",
    "        pe = pe.unsqueeze(0)\n",
    "        self.register_buffer('pe', pe)\n",
    "        \n",
    "    def forward(self, x):\n",
    "        x = x + self.pe[:, :x.size(1)]\n",
    "        return x "
   ],
   "metadata": {
    "collapsed": false,
    "ExecuteTime": {
     "end_time": "2024-02-12T02:49:17.176837Z",
     "start_time": "2024-02-12T02:49:17.173877Z"
    }
   },
   "id": "581a954f4446a1ab",
   "execution_count": 26
  },
  {
   "cell_type": "code",
   "outputs": [
    {
     "name": "stdout",
     "output_type": "stream",
     "text": [
      "<class 'torch.Tensor'>\n"
     ]
    },
    {
     "data": {
      "text/plain": "tensor([[0., 0., 0., 0., 0., 0., 0., 0.],\n        [0., 0., 0., 0., 0., 0., 0., 0.],\n        [0., 0., 0., 0., 0., 0., 0., 0.],\n        [0., 0., 0., 0., 0., 0., 0., 0.]])"
     },
     "execution_count": 22,
     "metadata": {},
     "output_type": "execute_result"
    }
   ],
   "source": [
    "z = torch.zeros(4, 8)\n",
    "print(type(z))\n",
    "z "
   ],
   "metadata": {
    "collapsed": false,
    "ExecuteTime": {
     "end_time": "2024-02-12T02:46:58.694206Z",
     "start_time": "2024-02-12T02:46:58.686511Z"
    }
   },
   "id": "4e2fec286795bdcb",
   "execution_count": 22
  },
  {
   "cell_type": "code",
   "outputs": [
    {
     "data": {
      "text/plain": "tensor([[1., 2., 1., 2., 1., 2., 1., 2.],\n        [1., 2., 1., 2., 1., 2., 1., 2.],\n        [1., 2., 1., 2., 1., 2., 1., 2.],\n        [1., 2., 1., 2., 1., 2., 1., 2.]])"
     },
     "execution_count": 23,
     "metadata": {},
     "output_type": "execute_result"
    }
   ],
   "source": [
    "z[:, 0::2] = 1\n",
    "z[:, 1::2] = 2\n",
    "z"
   ],
   "metadata": {
    "collapsed": false,
    "ExecuteTime": {
     "end_time": "2024-02-12T02:47:48.222491Z",
     "start_time": "2024-02-12T02:47:48.199793Z"
    }
   },
   "id": "b0124b72fa705f23",
   "execution_count": 23
  },
  {
   "cell_type": "code",
   "outputs": [
    {
     "data": {
      "text/plain": "tensor([[1., 2., 1., 2.],\n        [1., 2., 1., 2.],\n        [1., 2., 1., 2.],\n        [1., 2., 1., 2.]])"
     },
     "execution_count": 25,
     "metadata": {},
     "output_type": "execute_result"
    }
   ],
   "source": [
    "z[:, :4]"
   ],
   "metadata": {
    "collapsed": false,
    "ExecuteTime": {
     "end_time": "2024-02-12T02:48:45.398571Z",
     "start_time": "2024-02-12T02:48:45.391287Z"
    }
   },
   "id": "fe901385fa746fe8",
   "execution_count": 25
  },
  {
   "cell_type": "code",
   "outputs": [
    {
     "data": {
      "text/plain": "tensor([[ 0.],\n        [ 1.],\n        [ 2.],\n        [ 3.],\n        [ 4.],\n        [ 5.],\n        [ 6.],\n        [ 7.],\n        [ 8.],\n        [ 9.],\n        [10.],\n        [11.]])"
     },
     "execution_count": 11,
     "metadata": {},
     "output_type": "execute_result"
    }
   ],
   "source": [
    "torch.arange(0, 12, dtype=torch.float).unsqueeze(1)"
   ],
   "metadata": {
    "collapsed": false,
    "ExecuteTime": {
     "end_time": "2024-02-12T02:08:52.951399Z",
     "start_time": "2024-02-12T02:08:52.943328Z"
    }
   },
   "id": "f9fbdefc1d341f1",
   "execution_count": 11
  },
  {
   "cell_type": "code",
   "outputs": [
    {
     "name": "stdout",
     "output_type": "stream",
     "text": [
      "tensor([0., 2., 4., 6.])\n"
     ]
    },
    {
     "data": {
      "text/plain": "tensor([  1.0000,   7.3891,  54.5982, 403.4288])"
     },
     "execution_count": 16,
     "metadata": {},
     "output_type": "execute_result"
    }
   ],
   "source": [
    "a = torch.arange(0, 8, 2, dtype=torch.float)\n",
    "print(a)\n",
    "torch.exp(a)"
   ],
   "metadata": {
    "collapsed": false,
    "ExecuteTime": {
     "end_time": "2024-02-12T02:23:18.398055Z",
     "start_time": "2024-02-12T02:23:18.344370Z"
    }
   },
   "id": "c90ddea1e0ab325",
   "execution_count": 16
  },
  {
   "cell_type": "code",
   "outputs": [
    {
     "data": {
      "text/plain": "2.302585092994046"
     },
     "execution_count": 14,
     "metadata": {},
     "output_type": "execute_result"
    }
   ],
   "source": [
    "math.log(10.)"
   ],
   "metadata": {
    "collapsed": false,
    "ExecuteTime": {
     "end_time": "2024-02-12T02:14:20.651688Z",
     "start_time": "2024-02-12T02:14:20.645676Z"
    }
   },
   "id": "b88100396ecedeb8",
   "execution_count": 14
  },
  {
   "cell_type": "code",
   "outputs": [
    {
     "data": {
      "text/plain": "54.575510850575995"
     },
     "execution_count": 20,
     "metadata": {},
     "output_type": "execute_result"
    }
   ],
   "source": [
    "2.718 ** 4"
   ],
   "metadata": {
    "collapsed": false,
    "ExecuteTime": {
     "end_time": "2024-02-12T02:28:08.657782Z",
     "start_time": "2024-02-12T02:28:08.651806Z"
    }
   },
   "id": "3881b090f6a17b66",
   "execution_count": 20
  },
  {
   "cell_type": "code",
   "outputs": [
    {
     "data": {
      "text/plain": "8"
     },
     "execution_count": 18,
     "metadata": {},
     "output_type": "execute_result"
    }
   ],
   "source": [
    "2 ** 3"
   ],
   "metadata": {
    "collapsed": false,
    "ExecuteTime": {
     "end_time": "2024-02-12T02:27:19.235498Z",
     "start_time": "2024-02-12T02:27:19.228632Z"
    }
   },
   "id": "e1b985739021d188",
   "execution_count": 18
  },
  {
   "cell_type": "code",
   "outputs": [],
   "source": [],
   "metadata": {
    "collapsed": false
   },
   "id": "cf951f4adf04cbdb"
  }
 ],
 "metadata": {
  "kernelspec": {
   "display_name": "Python 3",
   "language": "python",
   "name": "python3"
  },
  "language_info": {
   "codemirror_mode": {
    "name": "ipython",
    "version": 2
   },
   "file_extension": ".py",
   "mimetype": "text/x-python",
   "name": "python",
   "nbconvert_exporter": "python",
   "pygments_lexer": "ipython2",
   "version": "2.7.6"
  }
 },
 "nbformat": 4,
 "nbformat_minor": 5
}
