{
 "cells": [
  {
   "cell_type": "markdown",
   "source": [
    "# imports"
   ],
   "metadata": {
    "collapsed": false
   },
   "id": "6e724a4acd95777f"
  },
  {
   "cell_type": "code",
   "execution_count": 1,
   "id": "initial_id",
   "metadata": {
    "collapsed": true,
    "ExecuteTime": {
     "end_time": "2024-02-25T04:15:17.836291Z",
     "start_time": "2024-02-25T04:14:43.479071Z"
    }
   },
   "outputs": [],
   "source": [
    "from transformers import pipeline\n",
    "\n",
    "tasks = [\n",
    "    'text-classification', 'sentiment-analysis', 'ner', 'fill-mask', \n",
    "    'question-answering', 'translation_xx_to_yy', 'summarization', \n",
    "    'table-question-answering', 'text-generation', 'conversational'\n",
    "]\n",
    "\n",
    "models = ['bert', 'gpt2', 't5', 'xlnet', 'distilbert', 'roberta', 'albert', 'xlm', 'distilgpt2', 'distilroberta', 'flaubert', 'camembert', \n",
    "          'pegasus', 'mbart', 'marian', 't5', 'blenderbot', 'dialogpt', 'reformer', 'prophetnet', 'bart', 'longformer', 'electra', 'funnel',\n",
    "          'deberta', 'ibert', 'luke', 'rag', 'retribert', 'bigbird', 'led', 'mt5', 'pegasus', 'speech-to-text', 'text-to-speech', \n",
    "          'audio-to-audio', 'audio-to-text', 'audio-to-speech', 'speech-to-audio', 'speech-to-text', 'speech-to-speech', 'text-to-audio', \n",
    "          'text-to-speech', 'translation', 'text-translation', 'image-translation', 'image-to-text', 'text-to-image', \n",
    "          'distilbert-base-uncased',]\n",
    "\n",
    "sentiment_classifier = pipeline('sentiment-analysis')"
   ]
  },
  {
   "cell_type": "code",
   "outputs": [],
   "source": [
    "reviews = [\n",
    "\"\"\"\n",
    "Dear seller, I got very impressed with the fast\n",
    "delivery and careful packaging of my order. Great\n",
    "experience overall, thank you! \n",
    "\"\"\",\n",
    "\"\"\"\n",
    "This is the worst product took such a long time to\n",
    "get delivered. And on top of that I am not happy with \n",
    "the quality of the the material. \n",
    "\"\"\"    \n",
    "]"
   ],
   "metadata": {
    "collapsed": false,
    "ExecuteTime": {
     "end_time": "2024-02-25T04:21:06.626074Z",
     "start_time": "2024-02-25T04:21:06.616969Z"
    }
   },
   "id": "1a1085944b7479a8",
   "execution_count": 8
  },
  {
   "cell_type": "code",
   "outputs": [
    {
     "data": {
      "text/plain": "[{'label': 'POSITIVE', 'score': 0.9998602867126465}]"
     },
     "execution_count": 7,
     "metadata": {},
     "output_type": "execute_result"
    }
   ],
   "source": [
    "outputs = sentiment_classifier(reviews[0])\n",
    "outputs"
   ],
   "metadata": {
    "collapsed": false,
    "ExecuteTime": {
     "end_time": "2024-02-25T04:21:01.787394Z",
     "start_time": "2024-02-25T04:21:01.742869Z"
    }
   },
   "id": "5ce7b14cbee0d878",
   "execution_count": 7
  },
  {
   "cell_type": "code",
   "outputs": [
    {
     "data": {
      "text/plain": "[{'label': 'NEGATIVE', 'score': 0.9998190999031067}]"
     },
     "execution_count": 6,
     "metadata": {},
     "output_type": "execute_result"
    }
   ],
   "source": [
    "outputs = sentiment_classifier(reviews[1])\n",
    "outputs"
   ],
   "metadata": {
    "collapsed": false,
    "ExecuteTime": {
     "end_time": "2024-02-25T04:20:54.702635Z",
     "start_time": "2024-02-25T04:20:54.651364Z"
    }
   },
   "id": "6824b92f9dea3d37",
   "execution_count": 6
  },
  {
   "cell_type": "code",
   "outputs": [],
   "source": [],
   "metadata": {
    "collapsed": false
   },
   "id": "d15711c7fbc35c43"
  },
  {
   "cell_type": "code",
   "outputs": [],
   "source": [],
   "metadata": {
    "collapsed": false
   },
   "id": "a5bac57d583f77ca"
  },
  {
   "cell_type": "code",
   "outputs": [],
   "source": [],
   "metadata": {
    "collapsed": false
   },
   "id": "934d4c2145c8443e"
  },
  {
   "cell_type": "code",
   "outputs": [],
   "source": [],
   "metadata": {
    "collapsed": false
   },
   "id": "174df89529c53c7a"
  }
 ],
 "metadata": {
  "kernelspec": {
   "display_name": "Python 3",
   "language": "python",
   "name": "python3"
  },
  "language_info": {
   "codemirror_mode": {
    "name": "ipython",
    "version": 2
   },
   "file_extension": ".py",
   "mimetype": "text/x-python",
   "name": "python",
   "nbconvert_exporter": "python",
   "pygments_lexer": "ipython2",
   "version": "2.7.6"
  }
 },
 "nbformat": 4,
 "nbformat_minor": 5
}
